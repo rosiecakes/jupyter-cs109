{
 "cells": [
  {
   "cell_type": "code",
   "execution_count": 2,
   "metadata": {
    "collapsed": true
   },
   "outputs": [],
   "source": [
    "import pandas as pd"
   ]
  },
  {
   "cell_type": "code",
   "execution_count": 3,
   "metadata": {
    "collapsed": false
   },
   "outputs": [],
   "source": [
    "users_cols = \"user id | age | gender | occupation | zip code\".replace(\" \", \"_\").split(\"_|_\")\n",
    "users = pd.read_csv('http://files.grouplens.org/datasets/movielens/ml-100k/u.user', names=users_cols, sep=\"|\")"
   ]
  },
  {
   "cell_type": "code",
   "execution_count": 68,
   "metadata": {
    "collapsed": false
   },
   "outputs": [],
   "source": [
    "ratings_cols = \"user id | movie id | rating | timestamp\".replace(\" \", \"_\").split(\"_|_\")\n",
    "ratings = pd.read_csv('http://files.grouplens.org/datasets/movielens/ml-100k/u.data', names=ratings_cols, sep=\"\\t\")"
   ]
  },
  {
   "cell_type": "code",
   "execution_count": 69,
   "metadata": {
    "collapsed": false
   },
   "outputs": [],
   "source": [
    "movies_cols = \"movie id | movie title | release date | video release date | IMDb URL\".replace(\" \", \"_\").split(\"_|_\")\n",
    "movies = pd.read_csv('http://files.grouplens.org/datasets/movielens/ml-100k/u.item', names=movies_cols, sep=\"|\", usecols=range(5))"
   ]
  },
  {
   "cell_type": "code",
   "execution_count": 70,
   "metadata": {
    "collapsed": false,
    "scrolled": false
   },
   "outputs": [],
   "source": [
    "# quiz item\n",
    "male_and_forty = users[(users['age']==40) & (users['gender']=='M')]"
   ]
  },
  {
   "cell_type": "code",
   "execution_count": 71,
   "metadata": {
    "collapsed": false
   },
   "outputs": [],
   "source": [
    "# quiz item\n",
    "mean_of_female = users[(users['gender']=='F') & (users['occupation']=='programmer')].mean()"
   ]
  },
  {
   "cell_type": "code",
   "execution_count": 73,
   "metadata": {
    "collapsed": false
   },
   "outputs": [],
   "source": [
    "# messing with groupby. note different columns in the code, need to practice\n",
    "# groupby by itself returns an object: users.groupby('age')\n",
    "# to be useful, *apply* a function\n",
    "avg_age_per_gender = users['age'].groupby(users['gender']).mean()\n",
    "num_users_per_gender = users['gender'].groupby(users['gender']).count()"
   ]
  },
  {
   "cell_type": "code",
   "execution_count": 124,
   "metadata": {
    "collapsed": false
   },
   "outputs": [],
   "source": [
    "# quiz item\n",
    "avg_rating_per_movie = ratings['rating'].groupby(ratings['movie_id']).mean()\n",
    "max_avg_rating = avg_rating_per_movie.max()\n",
    "highest_movie_ids = avg_rating_per_movie[avg_rating_per_movie==max_avg_rating]\n",
    "\n",
    "# this was a bonus - needed isin()!\n",
    "movie_ids_as_a_set = highest_movie_ids.index\n",
    "highest_rated_movies = movies[movies['movie_id'].isin(movie_ids_as_set)]\n",
    "highest_rated_movie_titles = highest_rated_movies['movie_title']\n",
    "\n",
    "# rating of 5.0 is weird for these, so we should check the total frequency \n",
    "count_of_all_ratings = ratings['rating'].groupby(ratings['movie_id']).count()\n",
    "count_of_highest_ratings = count_of_ratings[avg_rating_per_movie==max_avg_rating]"
   ]
  },
  {
   "cell_type": "code",
   "execution_count": 179,
   "metadata": {
    "collapsed": false
   },
   "outputs": [],
   "source": [
    "# quiz item\n",
    "avg_rating = ratings['rating'].groupby(ratings['user_id']).mean()\n",
    "\n",
    "# quiz item\n",
    "grouped_data = users['gender'].groupby(users['occupation'])\n",
    "is_male_dominated = grouped_data.apply(lambda i: sum(i=='M')>sum(i=='F'))"
   ]
  },
  {
   "cell_type": "markdown",
   "metadata": {},
   "source": [
    " "
   ]
  },
  {
   "cell_type": "code",
   "execution_count": 2,
   "metadata": {
    "collapsed": false
   },
   "outputs": [],
   "source": [
    "import bs4\n",
    "import urllib2"
   ]
  },
  {
   "cell_type": "code",
   "execution_count": 39,
   "metadata": {
    "collapsed": false
   },
   "outputs": [],
   "source": [
    "url = 'https://www.crummy.com/software/BeautifulSoup/'\n",
    "contents = urllib2.urlopen(url).read()\n",
    "\n",
    "soup = bs4.BeautifulSoup(contents, \"html5lib\")\n",
    "first_a = soup.find('a')\n",
    "first_a.get('href') # u'bs4/download/'\n",
    "\n",
    "link_list = [l.get('href') for l in soup.findAll('a')]\n",
    "\n",
    "external_links = []\n",
    "for l in link_list:\n",
    "    if l is not None and l[:4] == 'http':\n",
    "        external_links.append(l)\n",
    "\n",
    "comp = [l for l in link_list if l is not None and l[:4] == 'http']"
   ]
  },
  {
   "cell_type": "code",
   "execution_count": 38,
   "metadata": {
    "collapsed": false
   },
   "outputs": [
    {
     "data": {
      "text/plain": [
       "[u'https://code.launchpad.net/beautifulsoup',\n",
       " u'https://groups.google.com/forum/?fromgroups#!forum/beautifulsoup',\n",
       " u'http://www.candlemarkandgleam.com/shop/constellation-games/',\n",
       " u'http://constellation.crummy.com/Constellation%20Games%20excerpt.html',\n",
       " u'https://groups.google.com/forum/?fromgroups#!forum/beautifulsoup',\n",
       " u'https://bugs.launchpad.net/beautifulsoup/',\n",
       " u'http://lxml.de/',\n",
       " u'http://code.google.com/p/html5lib/',\n",
       " u'http://www.crummy.com/software/BeautifulSoup/bs3/documentation.html',\n",
       " u'http://www.nytimes.com/2007/10/25/arts/design/25vide.html',\n",
       " u'https://github.com/reddit/reddit/blob/85f9cff3e2ab9bb8f19b96acd8da4ebacc079f04/r2/r2/lib/media.py',\n",
       " u'http://www.harrowell.org.uk/viktormap.html',\n",
       " u'http://svn.python.org/view/tracker/importer/',\n",
       " u'http://www2.ljworld.com/',\n",
       " u'http://www.b-list.org/weblog/2010/nov/02/news-done-broke/',\n",
       " u'http://esrl.noaa.gov/gsd/fab/',\n",
       " u'http://laps.noaa.gov/topograbber/',\n",
       " u'http://groups.google.com/group/beautifulsoup/',\n",
       " u'https://launchpad.net/beautifulsoup',\n",
       " u'https://code.launchpad.net/beautifulsoup/',\n",
       " u'https://bugs.launchpad.net/beautifulsoup/',\n",
       " u'http://creativecommons.org/licenses/by-sa/2.0/',\n",
       " u'http://creativecommons.org/licenses/by-sa/2.0/',\n",
       " u'http://www.crummy.com/',\n",
       " u'http://www.crummy.com/software/',\n",
       " u'http://www.crummy.com/software/BeautifulSoup/']"
      ]
     },
     "execution_count": 38,
     "metadata": {},
     "output_type": "execute_result"
    }
   ],
   "source": [
    "comp"
   ]
  },
  {
   "cell_type": "code",
   "execution_count": null,
   "metadata": {
    "collapsed": true
   },
   "outputs": [],
   "source": []
  }
 ],
 "metadata": {
  "kernelspec": {
   "display_name": "Python 2",
   "language": "python",
   "name": "python2"
  },
  "language_info": {
   "codemirror_mode": {
    "name": "ipython",
    "version": 2
   },
   "file_extension": ".py",
   "mimetype": "text/x-python",
   "name": "python",
   "nbconvert_exporter": "python",
   "pygments_lexer": "ipython2",
   "version": "2.7.12"
  }
 },
 "nbformat": 4,
 "nbformat_minor": 1
}
