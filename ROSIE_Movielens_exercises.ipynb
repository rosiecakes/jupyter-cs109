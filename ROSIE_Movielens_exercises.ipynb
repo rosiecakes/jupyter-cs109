{
 "cells": [
  {
   "cell_type": "code",
   "execution_count": 2,
   "metadata": {
    "collapsed": true
   },
   "outputs": [],
   "source": [
    "import pandas as pd"
   ]
  },
  {
   "cell_type": "code",
   "execution_count": 3,
   "metadata": {
    "collapsed": false
   },
   "outputs": [],
   "source": [
    "users_cols = \"user id | age | gender | occupation | zip code\".replace(\" \", \"_\").split(\"_|_\")\n",
    "users = pd.read_csv('http://files.grouplens.org/datasets/movielens/ml-100k/u.user', names=users_cols, sep=\"|\")"
   ]
  },
  {
   "cell_type": "code",
   "execution_count": 68,
   "metadata": {
    "collapsed": false
   },
   "outputs": [],
   "source": [
    "ratings_cols = \"user id | movie id | rating | timestamp\".replace(\" \", \"_\").split(\"_|_\")\n",
    "ratings = pd.read_csv('http://files.grouplens.org/datasets/movielens/ml-100k/u.data', names=ratings_cols, sep=\"\\t\")"
   ]
  },
  {
   "cell_type": "code",
   "execution_count": 69,
   "metadata": {
    "collapsed": false
   },
   "outputs": [],
   "source": [
    "movies_cols = \"movie id | movie title | release date | video release date | IMDb URL\".replace(\" \", \"_\").split(\"_|_\")\n",
    "movies = pd.read_csv('http://files.grouplens.org/datasets/movielens/ml-100k/u.item', names=movies_cols, sep=\"|\", usecols=range(5))"
   ]
  },
  {
   "cell_type": "code",
   "execution_count": 70,
   "metadata": {
    "collapsed": false,
    "scrolled": false
   },
   "outputs": [],
   "source": [
    "# quiz item\n",
    "male_and_forty = users[(users['age']==40) & (users['gender']=='M')]"
   ]
  },
  {
   "cell_type": "code",
   "execution_count": 71,
   "metadata": {
    "collapsed": false
   },
   "outputs": [],
   "source": [
    "# quiz item\n",
    "mean_of_female = users[(users['gender']=='F') & (users['occupation']=='programmer')].mean()"
   ]
  },
  {
   "cell_type": "code",
   "execution_count": 73,
   "metadata": {
    "collapsed": false
   },
   "outputs": [],
   "source": [
    "# messing with groupby. note different columns in the code\n",
    "# groupby by itself returns an object:\n",
    "# users.groupby('age')\n",
    "# to be useful, *apply* a function\n",
    "avg_age_per_gender = users['age'].groupby(users['gender']).mean()\n",
    "num_users_per_gender = users['gender'].groupby(users['gender']).count()"
   ]
  },
  {
   "cell_type": "code",
   "execution_count": 105,
   "metadata": {
    "collapsed": false
   },
   "outputs": [
    {
     "data": {
      "text/html": [
       "<div>\n",
       "<table border=\"1\" class=\"dataframe\">\n",
       "  <thead>\n",
       "    <tr style=\"text-align: right;\">\n",
       "      <th></th>\n",
       "      <th>movie_id</th>\n",
       "      <th>movie_title</th>\n",
       "      <th>release_date</th>\n",
       "      <th>video_release_date</th>\n",
       "      <th>IMDb_URL</th>\n",
       "    </tr>\n",
       "  </thead>\n",
       "  <tbody>\n",
       "    <tr>\n",
       "      <th>813</th>\n",
       "      <td>814</td>\n",
       "      <td>Great Day in Harlem, A (1994)</td>\n",
       "      <td>01-Jan-1994</td>\n",
       "      <td>NaN</td>\n",
       "      <td>http://us.imdb.com/M/title-exact?Great%20Day%2...</td>\n",
       "    </tr>\n",
       "    <tr>\n",
       "      <th>1121</th>\n",
       "      <td>1122</td>\n",
       "      <td>They Made Me a Criminal (1939)</td>\n",
       "      <td>01-Jan-1939</td>\n",
       "      <td>NaN</td>\n",
       "      <td>http://us.imdb.com/M/title-exact?They%20Made%2...</td>\n",
       "    </tr>\n",
       "    <tr>\n",
       "      <th>1188</th>\n",
       "      <td>1189</td>\n",
       "      <td>Prefontaine (1997)</td>\n",
       "      <td>24-Jan-1997</td>\n",
       "      <td>NaN</td>\n",
       "      <td>http://us.imdb.com/M/title-exact?Prefontaine%2...</td>\n",
       "    </tr>\n",
       "    <tr>\n",
       "      <th>1200</th>\n",
       "      <td>1201</td>\n",
       "      <td>Marlene Dietrich: Shadow and Light (1996)</td>\n",
       "      <td>02-Apr-1996</td>\n",
       "      <td>NaN</td>\n",
       "      <td>http://us.imdb.com/M/title-exact?Marlene%20Die...</td>\n",
       "    </tr>\n",
       "    <tr>\n",
       "      <th>1292</th>\n",
       "      <td>1293</td>\n",
       "      <td>Star Kid (1997)</td>\n",
       "      <td>16-Jan-1998</td>\n",
       "      <td>NaN</td>\n",
       "      <td>http://us.imdb.com/M/title-exact?imdb-title-12...</td>\n",
       "    </tr>\n",
       "    <tr>\n",
       "      <th>1466</th>\n",
       "      <td>1467</td>\n",
       "      <td>Saint of Fort Washington, The (1993)</td>\n",
       "      <td>01-Jan-1993</td>\n",
       "      <td>NaN</td>\n",
       "      <td>http://us.imdb.com/M/title-exact?Saint%20of%20...</td>\n",
       "    </tr>\n",
       "    <tr>\n",
       "      <th>1499</th>\n",
       "      <td>1500</td>\n",
       "      <td>Santa with Muscles (1996)</td>\n",
       "      <td>08-Nov-1996</td>\n",
       "      <td>NaN</td>\n",
       "      <td>http://us.imdb.com/M/title-exact?Santa%20with%...</td>\n",
       "    </tr>\n",
       "    <tr>\n",
       "      <th>1535</th>\n",
       "      <td>1536</td>\n",
       "      <td>Aiqing wansui (1994)</td>\n",
       "      <td>22-Jul-1996</td>\n",
       "      <td>NaN</td>\n",
       "      <td>http://us.imdb.com/M/title-exact?Aiqing%20Wans...</td>\n",
       "    </tr>\n",
       "    <tr>\n",
       "      <th>1598</th>\n",
       "      <td>1599</td>\n",
       "      <td>Someone Else's America (1995)</td>\n",
       "      <td>10-May-1996</td>\n",
       "      <td>NaN</td>\n",
       "      <td>http://us.imdb.com/M/title-exact?Someone%20Els...</td>\n",
       "    </tr>\n",
       "    <tr>\n",
       "      <th>1652</th>\n",
       "      <td>1653</td>\n",
       "      <td>Entertaining Angels: The Dorothy Day Story (1996)</td>\n",
       "      <td>27-Sep-1996</td>\n",
       "      <td>NaN</td>\n",
       "      <td>http://us.imdb.com/M/title-exact?Entertaining%...</td>\n",
       "    </tr>\n",
       "  </tbody>\n",
       "</table>\n",
       "</div>"
      ],
      "text/plain": [
       "      movie_id                                        movie_title  \\\n",
       "813        814                      Great Day in Harlem, A (1994)   \n",
       "1121      1122                     They Made Me a Criminal (1939)   \n",
       "1188      1189                                 Prefontaine (1997)   \n",
       "1200      1201         Marlene Dietrich: Shadow and Light (1996)    \n",
       "1292      1293                                    Star Kid (1997)   \n",
       "1466      1467               Saint of Fort Washington, The (1993)   \n",
       "1499      1500                          Santa with Muscles (1996)   \n",
       "1535      1536                               Aiqing wansui (1994)   \n",
       "1598      1599                      Someone Else's America (1995)   \n",
       "1652      1653  Entertaining Angels: The Dorothy Day Story (1996)   \n",
       "\n",
       "     release_date  video_release_date  \\\n",
       "813   01-Jan-1994                 NaN   \n",
       "1121  01-Jan-1939                 NaN   \n",
       "1188  24-Jan-1997                 NaN   \n",
       "1200  02-Apr-1996                 NaN   \n",
       "1292  16-Jan-1998                 NaN   \n",
       "1466  01-Jan-1993                 NaN   \n",
       "1499  08-Nov-1996                 NaN   \n",
       "1535  22-Jul-1996                 NaN   \n",
       "1598  10-May-1996                 NaN   \n",
       "1652  27-Sep-1996                 NaN   \n",
       "\n",
       "                                               IMDb_URL  \n",
       "813   http://us.imdb.com/M/title-exact?Great%20Day%2...  \n",
       "1121  http://us.imdb.com/M/title-exact?They%20Made%2...  \n",
       "1188  http://us.imdb.com/M/title-exact?Prefontaine%2...  \n",
       "1200  http://us.imdb.com/M/title-exact?Marlene%20Die...  \n",
       "1292  http://us.imdb.com/M/title-exact?imdb-title-12...  \n",
       "1466  http://us.imdb.com/M/title-exact?Saint%20of%20...  \n",
       "1499  http://us.imdb.com/M/title-exact?Santa%20with%...  \n",
       "1535  http://us.imdb.com/M/title-exact?Aiqing%20Wans...  \n",
       "1598  http://us.imdb.com/M/title-exact?Someone%20Els...  \n",
       "1652  http://us.imdb.com/M/title-exact?Entertaining%...  "
      ]
     },
     "execution_count": 105,
     "metadata": {},
     "output_type": "execute_result"
    }
   ],
   "source": [
    "# quiz item\n",
    "avg_rating_per_movie = ratings['rating'].groupby(ratings['movie_id']).mean()\n",
    "max_avg_rating = avg_rating_per_movie.max()\n",
    "highest_movie_ids = avg_rating_per_movie[avg_rating_per_movie==max_avg_rating]\n",
    "movie_ids_as_set = highest_movie_ids.index\n",
    "# this was a bonus - needed isin()!\n",
    "hiemovies[movies['movie_id'].isin(movie_ids_as_set)]"
   ]
  },
  {
   "cell_type": "code",
   "execution_count": 104,
   "metadata": {
    "collapsed": false
   },
   "outputs": [
    {
     "data": {
      "text/plain": [
       "Int64Index([814, 1122, 1189, 1201, 1293, 1467, 1500, 1536, 1599, 1653], dtype='int64', name=u'movie_id')"
      ]
     },
     "execution_count": 104,
     "metadata": {},
     "output_type": "execute_result"
    }
   ],
   "source": [
    "movie_ids_as_set"
   ]
  },
  {
   "cell_type": "code",
   "execution_count": null,
   "metadata": {
    "collapsed": false
   },
   "outputs": [],
   "source": []
  },
  {
   "cell_type": "code",
   "execution_count": null,
   "metadata": {
    "collapsed": true
   },
   "outputs": [],
   "source": []
  }
 ],
 "metadata": {
  "kernelspec": {
   "display_name": "Python 2",
   "language": "python",
   "name": "python2"
  },
  "language_info": {
   "codemirror_mode": {
    "name": "ipython",
    "version": 2
   },
   "file_extension": ".py",
   "mimetype": "text/x-python",
   "name": "python",
   "nbconvert_exporter": "python",
   "pygments_lexer": "ipython2",
   "version": "2.7.12"
  }
 },
 "nbformat": 4,
 "nbformat_minor": 1
}
