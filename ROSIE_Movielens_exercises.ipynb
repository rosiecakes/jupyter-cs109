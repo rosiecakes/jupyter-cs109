{
 "cells": [
  {
   "cell_type": "code",
   "execution_count": 2,
   "metadata": {
    "collapsed": true
   },
   "outputs": [],
   "source": [
    "import pandas as pd"
   ]
  },
  {
   "cell_type": "code",
   "execution_count": 3,
   "metadata": {
    "collapsed": false
   },
   "outputs": [],
   "source": [
    "users_cols = \"user id | age | gender | occupation | zip code\".replace(\" \", \"_\").split(\"_|_\")\n",
    "users = pd.read_csv('http://files.grouplens.org/datasets/movielens/ml-100k/u.user', names=users_cols, sep=\"|\")"
   ]
  },
  {
   "cell_type": "code",
   "execution_count": 68,
   "metadata": {
    "collapsed": false
   },
   "outputs": [],
   "source": [
    "ratings_cols = \"user id | movie id | rating | timestamp\".replace(\" \", \"_\").split(\"_|_\")\n",
    "ratings = pd.read_csv('http://files.grouplens.org/datasets/movielens/ml-100k/u.data', names=ratings_cols, sep=\"\\t\")"
   ]
  },
  {
   "cell_type": "code",
   "execution_count": 69,
   "metadata": {
    "collapsed": false
   },
   "outputs": [],
   "source": [
    "movies_cols = \"movie id | movie title | release date | video release date | IMDb URL\".replace(\" \", \"_\").split(\"_|_\")\n",
    "movies = pd.read_csv('http://files.grouplens.org/datasets/movielens/ml-100k/u.item', names=movies_cols, sep=\"|\", usecols=range(5))"
   ]
  },
  {
   "cell_type": "code",
   "execution_count": 70,
   "metadata": {
    "collapsed": false,
    "scrolled": false
   },
   "outputs": [],
   "source": [
    "# quiz item\n",
    "male_and_forty = users[(users['age']==40) & (users['gender']=='M')]"
   ]
  },
  {
   "cell_type": "code",
   "execution_count": 71,
   "metadata": {
    "collapsed": false
   },
   "outputs": [],
   "source": [
    "# quiz item\n",
    "mean_of_female = users[(users['gender']=='F') & (users['occupation']=='programmer')].mean()"
   ]
  },
  {
   "cell_type": "code",
   "execution_count": 73,
   "metadata": {
    "collapsed": false
   },
   "outputs": [],
   "source": [
    "# messing with groupby. note different columns in the code, need to practice\n",
    "# groupby by itself returns an object: users.groupby('age')\n",
    "# to be useful, *apply* a function\n",
    "avg_age_per_gender = users['age'].groupby(users['gender']).mean()\n",
    "num_users_per_gender = users['gender'].groupby(users['gender']).count()"
   ]
  },
  {
   "cell_type": "code",
   "execution_count": 124,
   "metadata": {
    "collapsed": false
   },
   "outputs": [],
   "source": [
    "# quiz item\n",
    "avg_rating_per_movie = ratings['rating'].groupby(ratings['movie_id']).mean()\n",
    "max_avg_rating = avg_rating_per_movie.max()\n",
    "highest_movie_ids = avg_rating_per_movie[avg_rating_per_movie==max_avg_rating]\n",
    "\n",
    "# this was a bonus - needed isin()!\n",
    "movie_ids_as_a_set = highest_movie_ids.index\n",
    "highest_rated_movies = movies[movies['movie_id'].isin(movie_ids_as_set)]\n",
    "highest_rated_movie_titles = highest_rated_movies['movie_title']\n",
    "\n",
    "# rating of 5.0 is weird for these, so we should check the total frequency \n",
    "count_of_all_ratings = ratings['rating'].groupby(ratings['movie_id']).count()\n",
    "count_of_highest_ratings = count_of_ratings[avg_rating_per_movie==max_avg_rating]"
   ]
  },
  {
   "cell_type": "code",
   "execution_count": 179,
   "metadata": {
    "collapsed": false
   },
   "outputs": [],
   "source": [
    "# quiz item\n",
    "avg_rating = ratings['rating'].groupby(ratings['user_id']).mean()\n",
    "\n",
    "# quiz item\n",
    "grouped_data = users['gender'].groupby(users['occupation'])\n",
    "is_male_dominated = grouped_data.apply(lambda i: sum(i=='M')>sum(i=='F'))"
   ]
  }
 ],
 "metadata": {
  "kernelspec": {
   "display_name": "Python 2",
   "language": "python",
   "name": "python2"
  },
  "language_info": {
   "codemirror_mode": {
    "name": "ipython",
    "version": 2
   },
   "file_extension": ".py",
   "mimetype": "text/x-python",
   "name": "python",
   "nbconvert_exporter": "python",
   "pygments_lexer": "ipython2",
   "version": "2.7.12"
  }
 },
 "nbformat": 4,
 "nbformat_minor": 1
}
