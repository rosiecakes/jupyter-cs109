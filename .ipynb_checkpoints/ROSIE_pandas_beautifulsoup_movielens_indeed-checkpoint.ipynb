{
 "cells": [
  {
   "cell_type": "markdown",
   "metadata": {},
   "source": [
    "# Pandas"
   ]
  },
  {
   "cell_type": "code",
   "execution_count": 2,
   "metadata": {
    "collapsed": true
   },
   "outputs": [],
   "source": [
    "import pandas as pd"
   ]
  },
  {
   "cell_type": "code",
   "execution_count": 3,
   "metadata": {
    "collapsed": false
   },
   "outputs": [],
   "source": [
    "users_cols = \"user id | age | gender | occupation | zip code\".replace(\" \", \"_\").split(\"_|_\")\n",
    "users = pd.read_csv('http://files.grouplens.org/datasets/movielens/ml-100k/u.user', names=users_cols, sep=\"|\")"
   ]
  },
  {
   "cell_type": "code",
   "execution_count": 68,
   "metadata": {
    "collapsed": false
   },
   "outputs": [],
   "source": [
    "ratings_cols = \"user id | movie id | rating | timestamp\".replace(\" \", \"_\").split(\"_|_\")\n",
    "ratings = pd.read_csv('http://files.grouplens.org/datasets/movielens/ml-100k/u.data', names=ratings_cols, sep=\"\\t\")"
   ]
  },
  {
   "cell_type": "code",
   "execution_count": 69,
   "metadata": {
    "collapsed": false
   },
   "outputs": [],
   "source": [
    "movies_cols = \"movie id | movie title | release date | video release date | IMDb URL\".replace(\" \", \"_\").split(\"_|_\")\n",
    "movies = pd.read_csv('http://files.grouplens.org/datasets/movielens/ml-100k/u.item', names=movies_cols, sep=\"|\", usecols=range(5))"
   ]
  },
  {
   "cell_type": "code",
   "execution_count": 70,
   "metadata": {
    "collapsed": false,
    "scrolled": false
   },
   "outputs": [],
   "source": [
    "# quiz item\n",
    "male_and_forty = users[(users['age']==40) & (users['gender']=='M')]"
   ]
  },
  {
   "cell_type": "code",
   "execution_count": 71,
   "metadata": {
    "collapsed": false
   },
   "outputs": [],
   "source": [
    "# quiz item\n",
    "mean_of_female = users[(users['gender']=='F') & (users['occupation']=='programmer')].mean()"
   ]
  },
  {
   "cell_type": "code",
   "execution_count": 73,
   "metadata": {
    "collapsed": false
   },
   "outputs": [],
   "source": [
    "# messing with groupby. note different columns in the code, need to practice\n",
    "# groupby by itself returns an object: users.groupby('age')\n",
    "# to be useful, *apply* a function\n",
    "avg_age_per_gender = users['age'].groupby(users['gender']).mean()\n",
    "num_users_per_gender = users['gender'].groupby(users['gender']).count()"
   ]
  },
  {
   "cell_type": "code",
   "execution_count": 124,
   "metadata": {
    "collapsed": false
   },
   "outputs": [],
   "source": [
    "# quiz item\n",
    "avg_rating_per_movie = ratings['rating'].groupby(ratings['movie_id']).mean()\n",
    "max_avg_rating = avg_rating_per_movie.max()\n",
    "highest_movie_ids = avg_rating_per_movie[avg_rating_per_movie==max_avg_rating]\n",
    "\n",
    "# this was a bonus - needed isin()!\n",
    "movie_ids_as_a_set = highest_movie_ids.index\n",
    "highest_rated_movies = movies[movies['movie_id'].isin(movie_ids_as_set)]\n",
    "highest_rated_movie_titles = highest_rated_movies['movie_title']\n",
    "\n",
    "# rating of 5.0 is weird for these, so we should check the total frequency \n",
    "count_of_all_ratings = ratings['rating'].groupby(ratings['movie_id']).count()\n",
    "count_of_highest_ratings = count_of_ratings[avg_rating_per_movie==max_avg_rating]"
   ]
  },
  {
   "cell_type": "code",
   "execution_count": 179,
   "metadata": {
    "collapsed": false
   },
   "outputs": [],
   "source": [
    "# quiz item\n",
    "avg_rating = ratings['rating'].groupby(ratings['user_id']).mean()\n",
    "\n",
    "# quiz item\n",
    "grouped_data = users['gender'].groupby(users['occupation'])\n",
    "is_male_dominated = grouped_data.apply(lambda i: sum(i=='M')>sum(i=='F'))"
   ]
  },
  {
   "cell_type": "markdown",
   "metadata": {},
   "source": [
    " # Scraping"
   ]
  },
  {
   "cell_type": "code",
   "execution_count": 199,
   "metadata": {
    "collapsed": false
   },
   "outputs": [],
   "source": [
    "import re\n",
    "import bs4\n",
    "import pickle\n",
    "import urllib2\n",
    "import numpy as np\n",
    "import pandas as pd\n",
    "import matplotlib\n",
    "import matplotlib.pyplot as plt\n",
    "%matplotlib inline"
   ]
  },
  {
   "cell_type": "code",
   "execution_count": 160,
   "metadata": {
    "collapsed": false
   },
   "outputs": [],
   "source": [
    "url = 'https://www.crummy.com/software/BeautifulSoup/'\n",
    "contents = urllib2.urlopen(url).read()\n",
    "\n",
    "soup = bs4.BeautifulSoup(contents, 'html5lib')\n",
    "first_a = soup.find('a')\n",
    "first_a.get('href') # u'bs4/download/'\n",
    "\n",
    "link_list = [l.get('href') for l in soup.findAll('a')]\n",
    "\n",
    "# external_links = []\n",
    "# for l in link_list:\n",
    "#   if l is not None and l[:4] == 'http':\n",
    "#     external_links.append(l)\n",
    "\n",
    "external_links = [l for l in link_list if l is not None and l.startswith('http')]\n",
    "header = soup.find('body').find('h3')\n",
    "list_hall_of_fame = [i.get_text() for i in soup.findAll('ul')]\n",
    "\n",
    "# another way\n",
    "tmp = []\n",
    "for li in soup.find('ul').contents[1:]:\n",
    "    tmp.append(li.get_text())\n",
    "    \n",
    "test =  [\"\".join(str(a) for a in sublist) for sublist in tmp]\n",
    "# print '\\n'.join(test)"
   ]
  },
  {
   "cell_type": "code",
   "execution_count": 101,
   "metadata": {
    "collapsed": false
   },
   "outputs": [],
   "source": [
    "url = 'http://www.indeed.com/jobs?q=data+analyst&l=remote'\n",
    "contents = urllib2.urlopen(url).read()\n",
    "\n",
    "# make the soup\n",
    "soup = bs4.BeautifulSoup(contents, 'html5lib')"
   ]
  },
  {
   "cell_type": "code",
   "execution_count": 121,
   "metadata": {
    "collapsed": false
   },
   "outputs": [
    {
     "name": "stdout",
     "output_type": "stream",
     "text": [
      "Found 129 total jobs on 13 pages\n"
     ]
    }
   ],
   "source": [
    "# here I composed from left to right. found the searchcount,\n",
    "# grabbed the contents. could have also used .contents[0]\n",
    "# \"Jobs 1 to 10 of 85,284\"\n",
    "\n",
    "result_count = soup.find(id = 'searchCount').get_text().split(' ')[-1]\n",
    "number_of_result_pages = int(np.ceil(float(result_count)/10.0))\n",
    "\n",
    "print(\"Found {} total jobs on {} pages\".format(result_count, number_of_result_pages))"
   ]
  },
  {
   "cell_type": "code",
   "execution_count": 144,
   "metadata": {
    "collapsed": false
   },
   "outputs": [],
   "source": [
    "base_url = 'http://www.indeed.com/'\n",
    "job_links = []\n",
    "\n",
    "for page in range(number_of_result_pages + 1):\n",
    "    # url param for page number counts in increments of 10\n",
    "    url = 'http://www.indeed.com/jobs?q=data+analyst&l=remote&start=' + str(page*10)\n",
    "    \n",
    "    html_page = urllib2.urlopen(url).read()\n",
    "    soup = bs4.BeautifulSoup(html_page)\n",
    "    \n",
    "    link_area = soup.find(id = 'resultsCol')\n",
    "    listings = link_area.findAll('div')\n",
    "    listings = [i for i in listings if not i.get('class') is None and ''.join(i.get('class')) == 'rowresult']\n",
    "    ids = [i.get('data-jk') for i in listings]\n",
    "\n",
    "    for id in ids:\n",
    "        job_links.append(base_url + '/rc/clk?jk=' + id)\n",
    "\n",
    "# pickle it, so we don't have to query each time\n",
    "with open('jobs.pickle', 'wb') as f:\n",
    "    pickle.dump(job_links, f)\n",
    "        \n",
    "with open('jobs.pickle', 'r') as f:\n",
    "    job_links = pickle.load(f)"
   ]
  },
  {
   "cell_type": "code",
   "execution_count": 191,
   "metadata": {
    "collapsed": false
   },
   "outputs": [
    {
     "name": "stdout",
     "output_type": "stream",
     "text": [
      "127 websites to go\n"
     ]
    }
   ],
   "source": [
    "skill_set = {'excel': 0, 'degree': 0}\n",
    "\n",
    "with open('scraped_links_restart.pickle', 'wb') as f:\n",
    "    pickle.dump((skill_set, 0), f)\n",
    "    \n",
    "with open('scraped_links_restart.pickle', 'r') as f:\n",
    "    # load returns a tuple so the second value needs to be assigned\n",
    "    skill_set, index = pickle.load(f)\n",
    "    print('{} websites to go'.format(len(job_links) - index))\n",
    "    \n",
    "# note to self: still not exactly sure where index comes from; nothing in docs"
   ]
  },
  {
   "cell_type": "code",
   "execution_count": 192,
   "metadata": {
    "collapsed": false,
    "scrolled": false
   },
   "outputs": [
    {
     "name": "stdout",
     "output_type": "stream",
     "text": [
      "{'excel': 59, 'degree': 80}\n"
     ]
    }
   ],
   "source": [
    "counter = 0\n",
    "\n",
    "for link in job_links:\n",
    "    counter += 1\n",
    "    \n",
    "    try: \n",
    "        html_page = urllib2.urlopen(link).read()\n",
    "    except urllib2.HTTPError:\n",
    "        print(\"Httperror\")\n",
    "        continue\n",
    "    except urllib2.URLError:\n",
    "        print(\"Urlerror\")\n",
    "        continue\n",
    "    except ValueError:\n",
    "        print(\"ValueError\")\n",
    "        continue\n",
    "    except socket.error as error:\n",
    "        print(\"Connection closed, socket error\")\n",
    "        continue\n",
    "    \n",
    "    # get words only + python3\n",
    "    html_text = re.sub('[^a-z.+3]',' ', html_page.lower())\n",
    "\n",
    "    for key in skill_set.keys():\n",
    "        if key in html_text:\n",
    "            skill_set[key] += 1\n",
    "\n",
    "print(skill_set)"
   ]
  },
  {
   "cell_type": "code",
   "execution_count": 202,
   "metadata": {
    "collapsed": false
   },
   "outputs": [
    {
     "data": {
      "text/plain": [
       "<matplotlib.text.Text at 0x114c401d0>"
      ]
     },
     "execution_count": 202,
     "metadata": {},
     "output_type": "execute_result"
    },
    {
     "data": {
      "image/png": "[encoded data removed]",
      "text/plain": [
       "<matplotlib.figure.Figure at 0x114eb7710>"
      ]
     },
     "metadata": {},
     "output_type": "display_data"
    }
   ],
   "source": [
    "pseries = pd.Series(skill_set)\n",
    "pseries.plot(kind = 'bar')\n",
    "plt.title('Key words mentioned')\n",
    "plt.xlabel('skills')\n",
    "plt.ylabel('count')"
   ]
  },
  {
   "cell_type": "markdown",
   "metadata": {},
   "source": [
    "# Poke API"
   ]
  },
  {
   "cell_type": "code",
   "execution_count": 206,
   "metadata": {
    "collapsed": true
   },
   "outputs": [],
   "source": [
    "import json\n",
    "import requests"
   ]
  },
  {
   "cell_type": "code",
   "execution_count": 225,
   "metadata": {
    "collapsed": false
   },
   "outputs": [],
   "source": [
    "base_url = 'http://pokeapi.co/api/v2/'\n",
    "query = 'type/water'\n",
    "results = requests.get(base_url + query)\n",
    "\n",
    "with open('pokemon.pickle', 'wb') as f:\n",
    "    pickle.dump(results.json(), f)"
   ]
  },
  {
   "cell_type": "code",
   "execution_count": 243,
   "metadata": {
    "collapsed": false
   },
   "outputs": [],
   "source": [
    "with open('pokemon.pickle', 'r') as f:\n",
    "    poke_response = pickle.load(f)"
   ]
  },
  {
   "cell_type": "code",
   "execution_count": 305,
   "metadata": {
    "collapsed": false
   },
   "outputs": [],
   "source": [
    "water_poke_names = [poke['pokemon']['name'] for poke in poke_response['pokemon']]\n",
    "water_poke_urls = [poke['pokemon']['url'] for poke in poke_response['pokemon']]"
   ]
  },
  {
   "cell_type": "code",
   "execution_count": 327,
   "metadata": {
    "collapsed": false
   },
   "outputs": [],
   "source": [
    "df = pd.DataFrame(data=[water_poke_names, water_poke_urls]).transpose()\n",
    "df.columns=['name', 'link']\n",
    "# could set name as index: df.set_index(['name'])"
   ]
  },
  {
   "cell_type": "code",
   "execution_count": 328,
   "metadata": {
    "collapsed": false
   },
   "outputs": [
    {
     "data": {
      "text/html": [
       "<div>\n",
       "<table border=\"1\" class=\"dataframe\">\n",
       "  <thead>\n",
       "    <tr style=\"text-align: right;\">\n",
       "      <th></th>\n",
       "      <th>name</th>\n",
       "      <th>link</th>\n",
       "    </tr>\n",
       "  </thead>\n",
       "  <tbody>\n",
       "    <tr>\n",
       "      <th>0</th>\n",
       "      <td>squirtle</td>\n",
       "      <td>http://pokeapi.co/api/v2/pokemon/7/</td>\n",
       "    </tr>\n",
       "    <tr>\n",
       "      <th>1</th>\n",
       "      <td>wartortle</td>\n",
       "      <td>http://pokeapi.co/api/v2/pokemon/8/</td>\n",
       "    </tr>\n",
       "    <tr>\n",
       "      <th>2</th>\n",
       "      <td>blastoise</td>\n",
       "      <td>http://pokeapi.co/api/v2/pokemon/9/</td>\n",
       "    </tr>\n",
       "    <tr>\n",
       "      <th>3</th>\n",
       "      <td>psyduck</td>\n",
       "      <td>http://pokeapi.co/api/v2/pokemon/54/</td>\n",
       "    </tr>\n",
       "    <tr>\n",
       "      <th>4</th>\n",
       "      <td>golduck</td>\n",
       "      <td>http://pokeapi.co/api/v2/pokemon/55/</td>\n",
       "    </tr>\n",
       "  </tbody>\n",
       "</table>\n",
       "</div>"
      ],
      "text/plain": [
       "        name                                  link\n",
       "0   squirtle   http://pokeapi.co/api/v2/pokemon/7/\n",
       "1  wartortle   http://pokeapi.co/api/v2/pokemon/8/\n",
       "2  blastoise   http://pokeapi.co/api/v2/pokemon/9/\n",
       "3    psyduck  http://pokeapi.co/api/v2/pokemon/54/\n",
       "4    golduck  http://pokeapi.co/api/v2/pokemon/55/"
      ]
     },
     "execution_count": 328,
     "metadata": {},
     "output_type": "execute_result"
    }
   ],
   "source": [
    "df.head()"
   ]
  },
  {
   "cell_type": "code",
   "execution_count": 355,
   "metadata": {
    "collapsed": false
   },
   "outputs": [],
   "source": [
    "short = len(str(df['name'][0]))<5"
   ]
  },
  {
   "cell_type": "code",
   "execution_count": 354,
   "metadata": {
    "collapsed": false
   },
   "outputs": [
    {
     "data": {
      "text/plain": [
       "8"
      ]
     },
     "execution_count": 354,
     "metadata": {},
     "output_type": "execute_result"
    }
   ],
   "source": [
    "len(str(df['name'][0]))"
   ]
  },
  {
   "cell_type": "code",
   "execution_count": null,
   "metadata": {
    "collapsed": true
   },
   "outputs": [],
   "source": []
  }
 ],
 "metadata": {
  "kernelspec": {
   "display_name": "Python 2",
   "language": "python",
   "name": "python2"
  },
  "language_info": {
   "codemirror_mode": {
    "name": "ipython",
    "version": 2
   },
   "file_extension": ".py",
   "mimetype": "text/x-python",
   "name": "python",
   "nbconvert_exporter": "python",
   "pygments_lexer": "ipython2",
   "version": "2.7.12"
  }
 },
 "nbformat": 4,
 "nbformat_minor": 1
}
